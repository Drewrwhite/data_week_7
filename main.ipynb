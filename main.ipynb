{
 "cells": [
  {
   "cell_type": "code",
   "execution_count": 1,
   "metadata": {},
   "outputs": [
    {
     "name": "stdout",
     "output_type": "stream",
     "text": [
      "Successfully created a BiqQuery client\n",
      "Project: deb-dev-dw\n"
     ]
    }
   ],
   "source": [
    "# import the bigquery lib\n",
    "from google.cloud import bigquery\n",
    "\n",
    "# create a connection\n",
    "client = bigquery.Client()\n",
    "\n",
    "print(\"Successfully created a BiqQuery client\")\n",
    "print(f\"Project: {client.project}\")"
   ]
  },
  {
   "cell_type": "code",
   "execution_count": 5,
   "metadata": {},
   "outputs": [
    {
     "name": "stdout",
     "output_type": "stream",
     "text": [
      "Created dataset deb-dev-dw.plants\n"
     ]
    }
   ],
   "source": [
    "# Set dataset_id to the ID of the dataset to create.\n",
    "dataset_id = \"{}.plants\".format(client.project)\n",
    "# Construct a full Dataset object to send to the API.\n",
    "dataset = bigquery.Dataset(dataset_id)\n",
    "# Specify the geographic location where the dataset should reside.\n",
    "dataset.location = \"US\"\n",
    "# Send the dataset to the API for creation, with an explicit timeout.\n",
    "dataset = client.create_dataset(dataset, timeout=120)  # Make an API request.\n",
    "print(\"Created dataset {}.{}\".format(client.project, dataset.dataset_id))"
   ]
  },
  {
   "cell_type": "code",
   "execution_count": 6,
   "metadata": {},
   "outputs": [
    {
     "name": "stdout",
     "output_type": "stream",
     "text": [
      "BigQuery Project: deb-dev-dw\n",
      "Listing datasets:\n",
      "dataset id: `mental_health`, full_name: `deb-dev-dw:mental_health`, labels (tags): {}\n",
      "dataset id: `mls_salaries`, full_name: `deb-dev-dw:mls_salaries`, labels (tags): {}\n",
      "dataset id: `my_vinyls`, full_name: `deb-dev-dw:my_vinyls`, labels (tags): {}\n",
      "dataset id: `plants`, full_name: `deb-dev-dw:plants`, labels (tags): {}\n",
      "dataset id: `sf_bikeshare`, full_name: `deb-dev-dw:sf_bikeshare`, labels (tags): {}\n",
      "dataset id: `streaming_catalog`, full_name: `deb-dev-dw:streaming_catalog`, labels (tags): {}\n"
     ]
    }
   ],
   "source": [
    "# verify new dataset is in project\n",
    "print(f\"BigQuery Project: {client.project}\")\n",
    "\n",
    "# list datasets\n",
    "print(\"Listing datasets:\")\n",
    "\n",
    "for dataset in client.list_datasets():\n",
    "    dataset_id = dataset.dataset_id\n",
    "    print(f\"dataset id: `{dataset_id}`, full_name: `{dataset.full_dataset_id}`, labels (tags): {dataset.labels}\")"
   ]
  },
  {
   "cell_type": "code",
   "execution_count": 7,
   "metadata": {},
   "outputs": [
    {
     "name": "stdout",
     "output_type": "stream",
     "text": [
      "table name: `flower_shop`, created at: 2022-12-23 18:38:12.383000+00:00\n"
     ]
    }
   ],
   "source": [
    "# first get the dataset reference object\n",
    "dataset_ref = client.get_dataset(\"plants\")\n",
    "\n",
    "# list table\n",
    "tables = client.list_tables(dataset_ref)\n",
    "for table in tables:\n",
    "    print(f\"table name: `{table.table_id}`, created at: {table.created}\")"
   ]
  }
 ],
 "metadata": {
  "kernelspec": {
   "display_name": "venv",
   "language": "python",
   "name": "python3"
  },
  "language_info": {
   "codemirror_mode": {
    "name": "ipython",
    "version": 3
   },
   "file_extension": ".py",
   "mimetype": "text/x-python",
   "name": "python",
   "nbconvert_exporter": "python",
   "pygments_lexer": "ipython3",
   "version": "3.7.15"
  },
  "orig_nbformat": 4,
  "vscode": {
   "interpreter": {
    "hash": "dd41398c9b1bf4d93d34fe1fc011d27352c8dc557642532323e70191eb2141e2"
   }
  }
 },
 "nbformat": 4,
 "nbformat_minor": 2
}
