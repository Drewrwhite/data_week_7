{
 "cells": [
  {
   "cell_type": "code",
   "execution_count": 1,
   "metadata": {},
   "outputs": [
    {
     "name": "stdout",
     "output_type": "stream",
     "text": [
      "Successfully created a BiqQuery client\n",
      "Project: deb-dev-dw\n"
     ]
    }
   ],
   "source": [
    "# import the bigquery lib\n",
    "from google.cloud import bigquery\n",
    "\n",
    "# create a connection\n",
    "client = bigquery.Client()\n",
    "\n",
    "print(\"Successfully created a BiqQuery client\")\n",
    "print(f\"Project: {client.project}\")"
   ]
  },
  {
   "cell_type": "code",
   "execution_count": 5,
   "metadata": {},
   "outputs": [
    {
     "name": "stdout",
     "output_type": "stream",
     "text": [
      "Created dataset deb-dev-dw.plants\n"
     ]
    }
   ],
   "source": [
    "# Set dataset_id to the ID of the dataset to create.\n",
    "dataset_id = \"{}.plants\".format(client.project)\n",
    "# Construct a full Dataset object to send to the API.\n",
    "dataset = bigquery.Dataset(dataset_id)\n",
    "# Specify the geographic location where the dataset should reside.\n",
    "dataset.location = \"US\"\n",
    "# Send the dataset to the API for creation, with an explicit timeout.\n",
    "dataset = client.create_dataset(dataset, timeout=120)  # Make an API request.\n",
    "print(\"Created dataset {}.{}\".format(client.project, dataset.dataset_id))"
   ]
  }
 ],
 "metadata": {
  "kernelspec": {
   "display_name": "venv",
   "language": "python",
   "name": "python3"
  },
  "language_info": {
   "codemirror_mode": {
    "name": "ipython",
    "version": 3
   },
   "file_extension": ".py",
   "mimetype": "text/x-python",
   "name": "python",
   "nbconvert_exporter": "python",
   "pygments_lexer": "ipython3",
   "version": "3.7.15"
  },
  "orig_nbformat": 4,
  "vscode": {
   "interpreter": {
    "hash": "dd41398c9b1bf4d93d34fe1fc011d27352c8dc557642532323e70191eb2141e2"
   }
  }
 },
 "nbformat": 4,
 "nbformat_minor": 2
}
