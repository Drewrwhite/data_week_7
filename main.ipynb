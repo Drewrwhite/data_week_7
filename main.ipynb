{
 "cells": [
  {
   "cell_type": "code",
   "execution_count": 1,
   "metadata": {},
   "outputs": [
    {
     "name": "stdout",
     "output_type": "stream",
     "text": [
      "Successfully created a BiqQuery client\n",
      "Project: deb-dev-dw\n"
     ]
    }
   ],
   "source": [
    "# import the bigquery lib\n",
    "from google.cloud import bigquery\n",
    "\n",
    "# create a connection\n",
    "client = bigquery.Client()\n",
    "\n",
    "print(\"Successfully created a BiqQuery client\")\n",
    "print(f\"Project: {client.project}\")"
   ]
  }
 ],
 "metadata": {
  "kernelspec": {
   "display_name": "venv",
   "language": "python",
   "name": "python3"
  },
  "language_info": {
   "codemirror_mode": {
    "name": "ipython",
    "version": 3
   },
   "file_extension": ".py",
   "mimetype": "text/x-python",
   "name": "python",
   "nbconvert_exporter": "python",
   "pygments_lexer": "ipython3",
   "version": "3.7.15"
  },
  "orig_nbformat": 4,
  "vscode": {
   "interpreter": {
    "hash": "dd41398c9b1bf4d93d34fe1fc011d27352c8dc557642532323e70191eb2141e2"
   }
  }
 },
 "nbformat": 4,
 "nbformat_minor": 2
}
